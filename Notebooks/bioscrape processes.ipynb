{
 "cells": [
  {
   "cell_type": "markdown",
   "metadata": {},
   "source": [
    "# Bioscrape Processes in Vivarium\n",
    "\n",
    "This notebook shows how to create a [Bioscrape](https://github.com/biocircuits/bioscrape) Process in the [Vivarium](https://github.com/vivarium-collective) framework. Briefly, Bioscrape is a Chemical Reaction Network(CRN) Simulator that can simulate CRNs determinsitically, stochastically, stochastically with delay, and in single cells. This tutorial will show how to build a simple Bioscrape model programatically and load it into Vivarium. It will also cover using Bioscrape to load SBML models in Vivarium."
   ]
  },
  {
   "cell_type": "code",
   "execution_count": 13,
   "metadata": {},
   "outputs": [],
   "source": [
    "#Core imports\n",
    "from bioscrape.types import Model #Used to create a Bioscrape Mode\n",
    "from vivarium_bioscrape.processes.bioscrape import Bioscrape #used to wrap the bioscrape model in a vivarium process\n",
    "from vivarium.core.composition import simulate_process\n",
    "\n",
    "\n",
    "#For plotting and simulation purposes\n",
    "import numpy as np\n",
    "import pylab as plt"
   ]
  },
  {
   "cell_type": "markdown",
   "metadata": {},
   "source": [
    "## Creating a simple CRN with the Bioscrape python API and Loading it into Vivarium:\n",
    "\n",
    "We show how to programatically create a very simple CRN with two reactions modeling transcription of a gene $G$ to a transcript $T$ and translation of $T$ to a protein $P$. All species but $R$ and $G$ are degraded via dilution.\n",
    "\n",
    "Transcription: $G \\to G + T \\quad \\quad \\rho_{tx}(G) = k_{tx} G$ is modeled using a massaction propensity.\n",
    "\n",
    "Translation: $T \\to T + P \\quad \\quad \\rho_{tl}(T, R) = k_{tl}R \\frac{T}{K + T}$ is modeled using a hill function involving the number of ribosomes $R$.\n",
    "\n",
    "Degredation: $T \\to \\emptyset \\quad\\quad \\rho_{dil}(T) = \\delta T, \\quad P \\to \\emptyset \\quad\\quad \\rho_{dil}(P) = \\delta P$ is modeled as a massaction propensity.\n",
    "\n",
    "For more information on the Bioscrape API, including different reaction types, require parameters, etc. please see the [Bioscrape examples](https://github.com/biocircuits/bioscrape/tree/master/examples) or the [Bioscrape Wiki](https://github.com/biocircuits/bioscrape/wiki)."
   ]
  },
  {
   "cell_type": "code",
   "execution_count": 14,
   "metadata": {},
   "outputs": [],
   "source": [
    "#Create a list of Species\n",
    "species = [\"G\", \"T\", \"P\", \"R\"]\n",
    "\n",
    "#Create a list of reactions\n",
    "reactions = [\n",
    "    ([\"G\"], [\"G\", \"T\"], \"massaction\", {\"k\":\"k_tx\"}),\n",
    "    ([\"T\"], [\"T\", \"P\"], \"proportionalhillpositive\", {\"k\":\"k_tl\", \"K\":\"K\", \"n\":1, \"s1\":\"G\", \"d\":\"R\"}),\n",
    "    ([\"T\"], [], \"massaction\", {\"k\":\"delta\"}),\n",
    "    ([\"P\"], [], \"massaction\", {\"k\":\"delta\"}),\n",
    "]\n",
    "\n",
    "#Parameters\n",
    "parameters = {\"k_tx\":.05, \"k_tl\":.1, \"K\":10, \"delta\":.001}\n",
    "\n",
    "initial_condition = {\"G\":1.0, \"R\":100} #all other species default to 0\n",
    "\n",
    "#Create a Bioscrape Model\n",
    "M = Model(species = species, reactions = reactions, parameters = parameters, initial_condition_dict = initial_condition)\n",
    "\n",
    "#Load the Bioscrape Model into a Bioscrape Vivarium Process. This requires setting a few internal parameters\n",
    "\n",
    "parameters = {\n",
    "    'bioscrape_model':M,\n",
    "    'internal_dt':0.01, #default value is 0.01\n",
    "    'stochastic': False, #default value is False\n",
    "    'initial_volume':1.0 #default value is 1.0. Only relevant for stochastic models.\n",
    "}\n",
    "\n",
    "#Create a Bioscrape Process which can be integrated into a larger Vivarium Simulation\n",
    "bioscrape_process = Bioscrape(parameters = parameters)"
   ]
  },
  {
   "cell_type": "code",
   "execution_count": 15,
   "metadata": {},
   "outputs": [
    {
     "name": "stdout",
     "output_type": "stream",
     "text": [
      "\n",
      "Simulation ID: a94df4b6-d153-11eb-8753-6c2b5976b3a5\n",
      "Created: 06/19/2021 at 16:11:21\n",
      "Completed in 0.298682 seconds\n"
     ]
    },
    {
     "data": {
      "text/plain": [
       "<matplotlib.legend.Legend at 0x28388696a48>"
      ]
     },
     "execution_count": 15,
     "metadata": {},
     "output_type": "execute_result"
    },
    {
     "data": {
      "image/png": "[encoded data removed]",
      "text/plain": [
       "<Figure size 432x288 with 1 Axes>"
      ]
     },
     "metadata": {
      "needs_background": "light"
     },
     "output_type": "display_data"
    }
   ],
   "source": [
    "#Simulate the Bioscrape Process through Vivarium\n",
    "\n",
    "#Set an initial condition\n",
    "initial_state = bioscrape_process.initial_state() #get the initial state from the bioscrape object\n",
    "#Alternatively you could make a dictionary {\"species\":{str(s):value} for s in species}\n",
    "\n",
    "sim_settings = {\n",
    "        'total_time': 1000,\n",
    "        'initial_state': initial_state}\n",
    "\n",
    "output = simulate_process(bioscrape_process, sim_settings)\n",
    "\n",
    "#Plot the Output:\n",
    "plt.figure()\n",
    "for s in output[\"species\"]:\n",
    "    plt.plot(output[\"time\"], output[\"species\"][s], label = s)\n",
    "plt.legend()"
   ]
  },
  {
   "cell_type": "markdown",
   "metadata": {},
   "source": [
    "# Loading an SBML Model into Vivarium using Bioscrape\n",
    "\n",
    "Bioscrape can read many Systems Biology Markup Langauge (SBML) Models. The Vivarium Bioscrape Process can similarly be used to load SBML into Vivarium. Note however that Bioscrape doesn't support all SBML features. Most CRN Models in a single compartment should be fine. Please see the Bioscrape documentation for details on features currently supported."
   ]
  },
  {
   "cell_type": "code",
   "execution_count": 16,
   "metadata": {},
   "outputs": [
    {
     "data": {
      "text/plain": [
       "True"
      ]
     },
     "execution_count": 16,
     "metadata": {},
     "output_type": "execute_result"
    }
   ],
   "source": [
    "#Write an SBML Model Using Bioscrape, which will will the re-load\n",
    "M.write_sbml_model(\"sbml_model.xml\")"
   ]
  },
  {
   "cell_type": "code",
   "execution_count": 17,
   "metadata": {},
   "outputs": [],
   "source": [
    "parameters = {\n",
    "    'sbml_file': \"sbml_model.xml\",\n",
    "    'internal_dt': 0.01, #default value is 0.01\n",
    "    'stochastic': False, #default value is False\n",
    "    'initial_volume':1.0 #default value is 1.0. Only relevant for stochastic models.\n",
    "}\n",
    "\n",
    "#create the Bioscrape Process which will automatically load an SBML file and create a bioscrape model\n",
    "bvp = Bioscrape(parameters = parameters)"
   ]
  },
  {
   "cell_type": "code",
   "execution_count": 19,
   "metadata": {},
   "outputs": [
    {
     "name": "stdout",
     "output_type": "stream",
     "text": [
      "\n",
      "Simulation ID: af0e659e-d153-11eb-8eb8-6c2b5976b3a5\n",
      "Created: 06/19/2021 at 16:11:31\n",
      "Completed in 0.256406 seconds\n"
     ]
    },
    {
     "data": {
      "text/plain": [
       "<matplotlib.legend.Legend at 0x2838802fa48>"
      ]
     },
     "execution_count": 19,
     "metadata": {},
     "output_type": "execute_result"
    },
    {
     "data": {
      "image/png": "[encoded data removed]",
      "text/plain": [
       "<Figure size 432x288 with 1 Axes>"
      ]
     },
     "metadata": {
      "needs_background": "light"
     },
     "output_type": "display_data"
    }
   ],
   "source": [
    "#simulate the Process\n",
    "output = simulate_process(bioscrape_process, sim_settings)\n",
    "\n",
    "#Plot the Output:\n",
    "plt.figure()\n",
    "for s in output[\"species\"]:\n",
    "    plt.plot(output[\"time\"], output[\"species\"][s], label = s)\n",
    "plt.legend()"
   ]
  },
  {
   "cell_type": "code",
   "execution_count": null,
   "metadata": {},
   "outputs": [],
   "source": []
  }
 ],
 "metadata": {
  "kernelspec": {
   "display_name": "Python 3",
   "language": "python",
   "name": "python3"
  },
  "language_info": {
   "codemirror_mode": {
    "name": "ipython",
    "version": 3
   },
   "file_extension": ".py",
   "mimetype": "text/x-python",
   "name": "python",
   "nbconvert_exporter": "python",
   "pygments_lexer": "ipython3",
   "version": "3.7.4"
  }
 },
 "nbformat": 4,
 "nbformat_minor": 4
}
